{
 "cells": [
  {
   "cell_type": "code",
   "execution_count": 1,
   "id": "2ad953e4-5d09-4ef6-b84d-44a3b96f9b99",
   "metadata": {},
   "outputs": [
    {
     "name": "stdout",
     "output_type": "stream",
     "text": [
      "Hello, Jupyter!\n"
     ]
    }
   ],
   "source": [
    "print(\"Hello, Jupyter!\")"
   ]
  },
  {
   "cell_type": "code",
   "execution_count": 2,
   "id": "8202eb50-b013-49d3-8766-7682b2f1f831",
   "metadata": {},
   "outputs": [
    {
     "data": {
      "text/plain": [
       "15.11111111111111"
      ]
     },
     "execution_count": 2,
     "metadata": {},
     "output_type": "execute_result"
    }
   ],
   "source": [
    "816/54"
   ]
  },
  {
   "cell_type": "code",
   "execution_count": 3,
   "id": "86f60207-79a4-4e96-9cf8-424d10199738",
   "metadata": {},
   "outputs": [
    {
     "name": "stdout",
     "output_type": "stream",
     "text": [
      "-88\n"
     ]
    }
   ],
   "source": [
    "x=7\n",
    "y=5\n",
    "z=19\n",
    "\n",
    "a=x-y*z\n",
    "\n",
    "print(a)"
   ]
  },
  {
   "cell_type": "code",
   "execution_count": 4,
   "id": "6c67030b-db05-4f09-bacb-970140260762",
   "metadata": {},
   "outputs": [
    {
     "name": "stdout",
     "output_type": "stream",
     "text": [
      "84\n"
     ]
    }
   ],
   "source": [
    "def multiply(a, b):\n",
    "    result = a * b\n",
    "    return result\n",
    "    \n",
    "product = multiply(21, 4)\n",
    "\n",
    "print(product)"
   ]
  },
  {
   "cell_type": "code",
   "execution_count": 5,
   "id": "03a01614-6dd4-431f-a6f7-e06fed419d83",
   "metadata": {},
   "outputs": [
    {
     "name": "stdout",
     "output_type": "stream",
     "text": [
      "My name is Carlos and I am 23 years old.\n"
     ]
    }
   ],
   "source": [
    "name = \"Carlos\"\n",
    "age = 23\n",
    "print(f\"My name is {name} and I am {age} years old.\")"
   ]
  },
  {
   "cell_type": "code",
   "execution_count": 6,
   "id": "810d132c-df1b-4cf6-8845-9f2c55818ace",
   "metadata": {},
   "outputs": [
    {
     "name": "stdout",
     "output_type": "stream",
     "text": [
      "You rolled a 2.\n"
     ]
    }
   ],
   "source": [
    "import random\n",
    "\n",
    "dice_roll = random.randint(1, 6)\n",
    "\n",
    "print(f\"You rolled a {dice_roll}.\")"
   ]
  },
  {
   "cell_type": "code",
   "execution_count": null,
   "id": "e0913fee-ab60-4d7f-b77a-8b04adf83124",
   "metadata": {},
   "outputs": [],
   "source": []
  }
 ],
 "metadata": {
  "kernelspec": {
   "display_name": "Python 3 (ipykernel)",
   "language": "python",
   "name": "python3"
  },
  "language_info": {
   "codemirror_mode": {
    "name": "ipython",
    "version": 3
   },
   "file_extension": ".py",
   "mimetype": "text/x-python",
   "name": "python",
   "nbconvert_exporter": "python",
   "pygments_lexer": "ipython3",
   "version": "3.12.1"
  }
 },
 "nbformat": 4,
 "nbformat_minor": 5
}
